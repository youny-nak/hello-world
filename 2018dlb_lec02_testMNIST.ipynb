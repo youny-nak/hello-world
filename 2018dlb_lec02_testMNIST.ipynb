{
  "nbformat": 4,
  "nbformat_minor": 0,
  "metadata": {
    "colab": {
      "name": "2018dlb_lec02_testMNIST.ipynb",
      "version": "0.3.2",
      "provenance": [],
      "collapsed_sections": [],
      "include_colab_link": true
    },
    "kernelspec": {
      "name": "python3",
      "display_name": "Python 3"
    }
  },
  "cells": [
    {
      "cell_type": "markdown",
      "metadata": {
        "id": "view-in-github",
        "colab_type": "text"
      },
      "source": [
        "[View in Colaboratory](https://colab.research.google.com/github/youny-nak/hello-world/blob/master/2018dlb_lec02_testMNIST.ipynb)"
      ]
    },
    {
      "metadata": {
        "id": "yH_a-hxjMcbp",
        "colab_type": "code",
        "colab": {
          "base_uri": "https://localhost:8080/",
          "height": 85
        },
        "outputId": "ea4b09c5-4f61-4090-804b-e6200bb1dd84"
      },
      "cell_type": "code",
      "source": [
        "from sklearn.utils import shuffle\n",
        "from sklearn.datasets import fetch_mldata\n",
        "from sklearn.metrics import accuracy_score\n",
        "from sklearn.model_selection import train_test_split\n",
        "\n",
        "import numpy as np\n",
        "\n",
        "np.random.seed(34)\n",
        "\n",
        "def sigmoid(x):\n",
        "#     return 1 / (1 + np.exp(- x))\n",
        "    return np.tanh(x * 0.5) * 0.5 + 0.5 # numpy組み込みのtanhを利用 (expのoverflowを防ぐ)\n",
        "\n",
        "# ORのデータセット\n",
        "x_train_or = np.array([[0, 1], [1, 0], [0, 0], [1, 1]])\n",
        "t_train_or = np.array([[1], [1], [0], [1]])\n",
        "x_valid_or, t_valid_or = x_train_or, t_train_or\n",
        "x_test_or, t_test_or = x_train_or, t_train_or\n",
        "\n",
        "# 重み (入力の次元数: 2, 出力の次元数: 1)\n",
        "W_or = np.random.uniform(low=-0.08, high=0.08, size=(2, 1)).astype('float32')\n",
        "b_or = np.zeros(shape=(1,)).astype('float32')\n",
        "\n",
        "# logの中身が0になるのを防ぐ\n",
        "def np_log(x):\n",
        "    return np.log(np.clip(a=x, a_min=1e-10, a_max=x))\n",
        "  \n",
        "def train_or(x, t, eps=1.0):\n",
        "    \"\"\"\n",
        "    :param x: np.ndarray, 入力データ, shape=(batch_size, 入力の次元数)\n",
        "    :param t: np.ndarray, 教師ラベル, shape=(batch_size, 出力の次元数)\n",
        "    :param eps: float, 学習率\n",
        "    \"\"\"\n",
        "    global W_or, b_or\n",
        "    \n",
        "    batch_size = x.shape[0]\n",
        "    \n",
        "    # 順伝播\n",
        "    y = sigmoid(np.matmul(x, W_or) + b_or) # shape: (batch_size, 出力の次元数)\n",
        "    \n",
        "    # 逆伝播\n",
        "    cost = (- t * np_log(y) - (1 - t) * np_log(1 - y)).mean()\n",
        "    delta = y - t # shape: (batch_size, 出力の次元数)\n",
        "    \n",
        "    # パラメータの更新\n",
        "    dW = np.matmul(x.T, delta) / batch_size # shape: (入力の次元数, 出力の次元数)\n",
        "    db = np.matmul(np.ones(shape=(batch_size,)), delta) / batch_size # shape: (出力の次元数,)\n",
        "    W_or -= eps * dW\n",
        "    b_or -= eps * db\n",
        "\n",
        "    return cost\n",
        "\n",
        "def valid_or(x, t):\n",
        "    y = sigmoid(np.matmul(x, W_or) + b_or)\n",
        "    cost = (- t * np_log(y) - (1 - t) * np_log(1 - y)).mean()\n",
        "    return cost, y\n",
        "  \n",
        "for epoch in range(1000):\n",
        "    # オンライン学習\n",
        "    x_train_or, t_train_or = shuffle(x_train_or, t_train_or)\n",
        "    for x, t in zip(x_train_or, t_train_or):\n",
        "        cost = train_or(x[None, :], t[None, :])\n",
        "    cost, y_pred = valid_or(x_valid_or, t_valid_or)\n",
        "\n",
        "print(y_pred)"
      ],
      "execution_count": 59,
      "outputs": [
        {
          "output_type": "stream",
          "text": [
            "[[0.9979988 ]\n",
            " [0.99799904]\n",
            " [0.00500219]\n",
            " [0.99999998]]\n"
          ],
          "name": "stdout"
        }
      ]
    },
    {
      "metadata": {
        "id": "DSoNZLTwTc-m",
        "colab_type": "code",
        "colab": {}
      },
      "cell_type": "code",
      "source": [
        "mnist = datasets.fetch_mldata('MNIST original')\n"
      ],
      "execution_count": 0,
      "outputs": []
    },
    {
      "metadata": {
        "id": "P68VEsRqgqEq",
        "colab_type": "code",
        "colab": {
          "base_uri": "https://localhost:8080/",
          "height": 134
        },
        "outputId": "9306e522-a9cb-4c0b-ef0b-e3d238955e16"
      },
      "cell_type": "code",
      "source": [
        "x_mnist = mnist.data.astype(np.float32) / 255　\n",
        "\n",
        "t_mnist = np.eye(N=10)[mnist.target.astype(np.int32)] #one-hot形式にする\n",
        "\n",
        "#検証データとテストデータの分割\n",
        "x_train_mnist, x_test_mnist, t_train_mnist, t_test_mnist = train_test_split(x_mnist, t_mnist, test_size=10000)\n",
        "x_train_mnist, x_valid_mnist, t_train_mnist, t_valid_mnist = train_test_split(x_train_mnist, t_train_mnist, test_size=10000)\n",
        "# 0から255までの値なので、255で割って正規化する"
      ],
      "execution_count": 66,
      "outputs": [
        {
          "output_type": "error",
          "ename": "SyntaxError",
          "evalue": "ignored",
          "traceback": [
            "\u001b[0;36m  File \u001b[0;32m\"<ipython-input-66-fad6a576cd02>\"\u001b[0;36m, line \u001b[0;32m1\u001b[0m\n\u001b[0;31m    x_mnist = mnist.data.astype(np.float32) / 255\u001b[0m\n\u001b[0m                                                 ^\u001b[0m\n\u001b[0;31mSyntaxError\u001b[0m\u001b[0;31m:\u001b[0m invalid character in identifier\n"
          ]
        }
      ]
    },
    {
      "metadata": {
        "id": "8IM7ggaCVHG9",
        "colab_type": "code",
        "colab": {
          "base_uri": "https://localhost:8080/",
          "height": 1106
        },
        "outputId": "fabf8721-0e7b-496d-9f5e-78f98a0e0c72"
      },
      "cell_type": "code",
      "source": [
        "#mnistデータを10個だけ可視化してみる\n",
        "import matplotlib.pyplot as plt\n",
        "for i in range(1,10):\n",
        "    plt.subplot(330+i)\n",
        "    plt.imshow(X[30+i*6500].reshape(28,28),cmap='gray_r')\n",
        "    plt.show()"
      ],
      "execution_count": 48,
      "outputs": [
        {
          "output_type": "display_data",
          "data": {
            "image/png": "[encoded data removed]",
            "text/plain": [
              "<matplotlib.figure.Figure at 0x7fe78909b7b8>"
            ]
          },
          "metadata": {
            "tags": []
          }
        },
        {
          "output_type": "display_data",
          "data": {
            "image/png": "[encoded data removed]",
            "text/plain": [
              "<matplotlib.figure.Figure at 0x7fe7890aeba8>"
            ]
          },
          "metadata": {
            "tags": []
          }
        },
        {
          "output_type": "display_data",
          "data": {
            "image/png": "[encoded data removed]",
            "text/plain": [
              "<matplotlib.figure.Figure at 0x7fe7890871d0>"
            ]
          },
          "metadata": {
            "tags": []
          }
        },
        {
          "output_type": "display_data",
          "data": {
            "image/png": "[encoded data removed]",
            "text/plain": [
              "<matplotlib.figure.Figure at 0x7fe789027710>"
            ]
          },
          "metadata": {
            "tags": []
          }
        },
        {
          "output_type": "display_data",
          "data": {
            "image/png": "[encoded data removed]",
            "text/plain": [
              "<matplotlib.figure.Figure at 0x7fe789048208>"
            ]
          },
          "metadata": {
            "tags": []
          }
        },
        {
          "output_type": "display_data",
          "data": {
            "image/png": "[encoded data removed]",
            "text/plain": [
              "<matplotlib.figure.Figure at 0x7fe78901a710>"
            ]
          },
          "metadata": {
            "tags": []
          }
        },
        {
          "output_type": "display_data",
          "data": {
            "image/png": "[encoded data removed]",
            "text/plain": [
              "<matplotlib.figure.Figure at 0x7fe789143b38>"
            ]
          },
          "metadata": {
            "tags": []
          }
        },
        {
          "output_type": "display_data",
          "data": {
            "image/png": "[encoded data removed]",
            "text/plain": [
              "<matplotlib.figure.Figure at 0x7fe78de4d780>"
            ]
          },
          "metadata": {
            "tags": []
          }
        },
        {
          "output_type": "display_data",
          "data": {
            "image/png": "[encoded data removed]",
            "text/plain": [
              "<matplotlib.figure.Figure at 0x7fe788fa7630>"
            ]
          },
          "metadata": {
            "tags": []
          }
        }
      ]
    },
    {
      "metadata": {
        "id": "nz5vfgJgUSR4",
        "colab_type": "code",
        "colab": {}
      },
      "cell_type": "code",
      "source": [
        "def softmax(x):\n",
        "    x -= x.max(axis=1, keepdims=True) # expのunderflow & overflowを防ぐ\n",
        "    x_exp = np.exp(x)\n",
        "    return x_exp / np.sum(x_exp, axis=1, keepdims=True)\n",
        "\n",
        "def train_mnist(x, t, eps=1.0):\n",
        "    \"\"\"\n",
        "    :param x: np.ndarray, 入力データ, shape=(batch_size, 入力の次元数)\n",
        "    :param t: np.ndarray, 教師ラベル, shape=(batch_size, 出力の次元数)\n",
        "    :param eps: float, 学習率\n",
        "    \"\"\"\n",
        "    global W_mnist, b_mnist\n",
        "    \n",
        "    batch_size = x.shape[0]\n",
        "    \n",
        "    # 順伝播\n",
        "    y = softmax(np.matmul(x, W_mnist) + b_mnist) # shape: (batch_size, 出力の次元数)\n",
        "    \n",
        "    # 逆伝播\n",
        "    cost = (- t * np_log(y)).sum(axis=1).mean()　　#多クラス交差エントロピーを損失関数とする\n",
        "    delta = y - t # shape: (batch_size, 出力の次元数)\n",
        "    \n",
        "    # パラメータの更新\n",
        "    dW = np.matmul(x.T, delta) / batch_size # shape: (入力の次元数, 出力の次元数)\n",
        "    db = np.matmul(np.ones(shape=(batch_size,)), delta) / batch_size # shape: (出力の次元数,)\n",
        "    W_mnist -= eps * dW\n",
        "    b_mnist -= eps * db\n",
        "\n",
        "    return cost\n",
        "\n",
        "def valid_mnist(x, t):\n",
        "    y = softmax(np.matmul(x, W_mnist) + b_mnist)\n",
        "    cost = (- t * np_log(y)).sum(axis=1).mean()\n",
        "    \n",
        "    return cost, y"
      ],
      "execution_count": 0,
      "outputs": []
    },
    {
      "metadata": {
        "id": "9emjhHs_UWt5",
        "colab_type": "code",
        "colab": {
          "base_uri": "https://localhost:8080/",
          "height": 68
        },
        "outputId": "fc11c064-1278-4ea1-f2cb-6b000c9356a0"
      },
      "cell_type": "code",
      "source": [
        "for epoch in range(3):\n",
        "    # オンライン学習\n",
        "    x_train_mnist, t_train_mnist = shuffle(x_train_mnist, t_train_mnist)\n",
        "    for x, t in zip(x_train_mnist, t_train_mnist):\n",
        "        cost = train_mnist(x[None, :], t[None, :])\n",
        "    cost, y_pred = valid_mnist(x_valid_mnist, t_valid_mnist)\n",
        "    print('EPOCH: {}, Valid Cost: {:.3f}, Valid Accuracy: {:.3f}'.format(\n",
        "        epoch + 1,\n",
        "        cost,\n",
        "        accuracy_score(t_valid_mnist.argmax(axis=1), y_pred.argmax(axis=1))\n",
        "    ))"
      ],
      "execution_count": 44,
      "outputs": [
        {
          "output_type": "stream",
          "text": [
            "EPOCH: 1, Valid Cost: 3.223, Valid Accuracy: 0.843\n",
            "EPOCH: 2, Valid Cost: 2.521, Valid Accuracy: 0.876\n",
            "EPOCH: 3, Valid Cost: 2.235, Valid Accuracy: 0.890\n"
          ],
          "name": "stdout"
        }
      ]
    },
    {
      "metadata": {
        "id": "Q2fLy-qPUan5",
        "colab_type": "code",
        "colab": {
          "base_uri": "https://localhost:8080/",
          "height": 527
        },
        "outputId": "9e2b15ef-3674-44b6-9bda-68608f747908"
      },
      "cell_type": "code",
      "source": [
        "# 重み (入力の次元数: 784, 出力の次元数: 10)\n",
        "W_mnist = np.random.uniform(low=-0.08, high=0.08, size=(784, 10)).astype('float32')\n",
        "b_mnist = np.zeros(shape=(10,)).astype('float32')\n",
        "\n",
        "for epoch in range(30):\n",
        "    # 機械学習\n",
        "    #xとyの順番をシャッフルする\n",
        "    #x1_train, y1_train = shuffle(x_train, y_train)\n",
        "    \n",
        "    #任意の100個を選んで更新していく作戦\n",
        "    train_size=x_train_mnist.shape[0]\n",
        "    b_size=100\n",
        "    batch_mask=np.random.choice(train_size,b_size)\n",
        "    x1_train=x_train_mnist[batch_mask]\n",
        "    t1_train=t_train_mnist[batch_mask]\n",
        "    \n",
        "    \n",
        "    for x, t in zip(x1_train, t1_train):\n",
        "        cost = train_mnist(x[None, :], t[None, :])\n",
        "        cost, y_pred = valid_mnist(x_valid_mnist, t_valid_mnist)\n",
        "    print('EPOCH: {}, Valid Cost: {:.3f}, Valid Accuracy: {:.3f}'.format(\n",
        "        epoch + 1,\n",
        "        cost,\n",
        "        accuracy_score(t_valid_mnist.argmax(axis=1), y_pred.argmax(axis=1))\n",
        "    ))"
      ],
      "execution_count": 49,
      "outputs": [
        {
          "output_type": "stream",
          "text": [
            "EPOCH: 1, Valid Cost: 10.082, Valid Accuracy: 0.480\n",
            "EPOCH: 2, Valid Cost: 7.224, Valid Accuracy: 0.607\n",
            "EPOCH: 3, Valid Cost: 5.782, Valid Accuracy: 0.679\n",
            "EPOCH: 4, Valid Cost: 5.605, Valid Accuracy: 0.704\n",
            "EPOCH: 5, Valid Cost: 5.651, Valid Accuracy: 0.695\n",
            "EPOCH: 6, Valid Cost: 6.037, Valid Accuracy: 0.674\n",
            "EPOCH: 7, Valid Cost: 4.068, Valid Accuracy: 0.776\n",
            "EPOCH: 8, Valid Cost: 5.940, Valid Accuracy: 0.689\n",
            "EPOCH: 9, Valid Cost: 4.326, Valid Accuracy: 0.767\n",
            "EPOCH: 10, Valid Cost: 4.017, Valid Accuracy: 0.789\n",
            "EPOCH: 11, Valid Cost: 3.414, Valid Accuracy: 0.814\n",
            "EPOCH: 12, Valid Cost: 3.529, Valid Accuracy: 0.808\n",
            "EPOCH: 13, Valid Cost: 3.826, Valid Accuracy: 0.793\n",
            "EPOCH: 14, Valid Cost: 4.191, Valid Accuracy: 0.777\n",
            "EPOCH: 15, Valid Cost: 5.115, Valid Accuracy: 0.733\n",
            "EPOCH: 16, Valid Cost: 3.172, Valid Accuracy: 0.828\n",
            "EPOCH: 17, Valid Cost: 4.371, Valid Accuracy: 0.767\n",
            "EPOCH: 18, Valid Cost: 4.480, Valid Accuracy: 0.768\n",
            "EPOCH: 19, Valid Cost: 4.382, Valid Accuracy: 0.777\n",
            "EPOCH: 20, Valid Cost: 4.530, Valid Accuracy: 0.767\n",
            "EPOCH: 21, Valid Cost: 4.536, Valid Accuracy: 0.771\n",
            "EPOCH: 22, Valid Cost: 4.043, Valid Accuracy: 0.787\n",
            "EPOCH: 23, Valid Cost: 3.893, Valid Accuracy: 0.796\n",
            "EPOCH: 24, Valid Cost: 4.828, Valid Accuracy: 0.758\n",
            "EPOCH: 25, Valid Cost: 5.052, Valid Accuracy: 0.746\n",
            "EPOCH: 26, Valid Cost: 4.275, Valid Accuracy: 0.781\n",
            "EPOCH: 27, Valid Cost: 3.403, Valid Accuracy: 0.819\n",
            "EPOCH: 28, Valid Cost: 3.815, Valid Accuracy: 0.801\n",
            "EPOCH: 29, Valid Cost: 5.755, Valid Accuracy: 0.707\n",
            "EPOCH: 30, Valid Cost: 5.094, Valid Accuracy: 0.740\n"
          ],
          "name": "stdout"
        }
      ]
    },
    {
      "metadata": {
        "id": "P64oyzvYbNrl",
        "colab_type": "code",
        "colab": {}
      },
      "cell_type": "code",
      "source": [
        ""
      ],
      "execution_count": 0,
      "outputs": []
    }
  ]
}